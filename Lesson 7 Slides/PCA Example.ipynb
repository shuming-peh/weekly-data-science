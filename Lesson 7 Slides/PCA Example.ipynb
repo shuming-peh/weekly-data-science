{
 "cells": [
  {
   "cell_type": "code",
   "execution_count": 21,
   "metadata": {
    "collapsed": true
   },
   "outputs": [],
   "source": [
    "import pandas as pd\n",
    "import numpy as np"
   ]
  },
  {
   "cell_type": "markdown",
   "metadata": {},
   "source": [
    "## Example 1:\n",
    "We have a dataset that has about 30 features, we will want to reduce the number of features being used, so that we can train the dataset with lesser complexity"
   ]
  },
  {
   "cell_type": "code",
   "execution_count": 22,
   "metadata": {
    "collapsed": true
   },
   "outputs": [],
   "source": [
    "raw_data = pd.read_csv(\"../data/lesson7/features.csv\")"
   ]
  },
  {
   "cell_type": "code",
   "execution_count": 23,
   "metadata": {},
   "outputs": [
    {
     "name": "stdout",
     "output_type": "stream",
     "text": [
      "number of features in table: 32\n"
     ]
    },
    {
     "data": {
      "text/html": [
       "<div>\n",
       "<style scoped>\n",
       "    .dataframe tbody tr th:only-of-type {\n",
       "        vertical-align: middle;\n",
       "    }\n",
       "\n",
       "    .dataframe tbody tr th {\n",
       "        vertical-align: top;\n",
       "    }\n",
       "\n",
       "    .dataframe thead th {\n",
       "        text-align: right;\n",
       "    }\n",
       "</style>\n",
       "<table border=\"1\" class=\"dataframe\">\n",
       "  <thead>\n",
       "    <tr style=\"text-align: right;\">\n",
       "      <th></th>\n",
       "      <th>0</th>\n",
       "      <th>1</th>\n",
       "      <th>2</th>\n",
       "      <th>3</th>\n",
       "      <th>4</th>\n",
       "    </tr>\n",
       "  </thead>\n",
       "  <tbody>\n",
       "    <tr>\n",
       "      <th>total_score</th>\n",
       "      <td>0.016179</td>\n",
       "      <td>0.060323</td>\n",
       "      <td>0.109066</td>\n",
       "      <td>0.152926</td>\n",
       "      <td>0.023338</td>\n",
       "    </tr>\n",
       "    <tr>\n",
       "      <th>total_opponent_score</th>\n",
       "      <td>0.022804</td>\n",
       "      <td>0.082161</td>\n",
       "      <td>0.142904</td>\n",
       "      <td>0.196478</td>\n",
       "      <td>0.021182</td>\n",
       "    </tr>\n",
       "    <tr>\n",
       "      <th>total_rebounds</th>\n",
       "      <td>0.014417</td>\n",
       "      <td>0.054206</td>\n",
       "      <td>0.096439</td>\n",
       "      <td>0.135208</td>\n",
       "      <td>0.014061</td>\n",
       "    </tr>\n",
       "    <tr>\n",
       "      <th>total_off_rebounds</th>\n",
       "      <td>0.010464</td>\n",
       "      <td>0.044034</td>\n",
       "      <td>0.076152</td>\n",
       "      <td>0.103619</td>\n",
       "      <td>0.003052</td>\n",
       "    </tr>\n",
       "    <tr>\n",
       "      <th>total_def_rebounds</th>\n",
       "      <td>0.016552</td>\n",
       "      <td>0.059696</td>\n",
       "      <td>0.107389</td>\n",
       "      <td>0.152259</td>\n",
       "      <td>0.020003</td>\n",
       "    </tr>\n",
       "    <tr>\n",
       "      <th>total_blocks</th>\n",
       "      <td>0.003550</td>\n",
       "      <td>0.013314</td>\n",
       "      <td>0.032840</td>\n",
       "      <td>0.053254</td>\n",
       "      <td>0.009172</td>\n",
       "    </tr>\n",
       "    <tr>\n",
       "      <th>total_assists</th>\n",
       "      <td>0.011125</td>\n",
       "      <td>0.051270</td>\n",
       "      <td>0.093349</td>\n",
       "      <td>0.134462</td>\n",
       "      <td>0.029746</td>\n",
       "    </tr>\n",
       "    <tr>\n",
       "      <th>total_steals</th>\n",
       "      <td>0.014599</td>\n",
       "      <td>0.054988</td>\n",
       "      <td>0.099270</td>\n",
       "      <td>0.141849</td>\n",
       "      <td>0.025791</td>\n",
       "    </tr>\n",
       "    <tr>\n",
       "      <th>total_turnover</th>\n",
       "      <td>0.020070</td>\n",
       "      <td>0.070105</td>\n",
       "      <td>0.120557</td>\n",
       "      <td>0.171010</td>\n",
       "      <td>0.020767</td>\n",
       "    </tr>\n",
       "    <tr>\n",
       "      <th>total_personalfoul</th>\n",
       "      <td>0.027708</td>\n",
       "      <td>0.088496</td>\n",
       "      <td>0.152128</td>\n",
       "      <td>0.210493</td>\n",
       "      <td>0.035293</td>\n",
       "    </tr>\n",
       "    <tr>\n",
       "      <th>total_assist_per_fgm</th>\n",
       "      <td>0.273657</td>\n",
       "      <td>0.386835</td>\n",
       "      <td>0.403154</td>\n",
       "      <td>0.422999</td>\n",
       "      <td>0.863359</td>\n",
       "    </tr>\n",
       "    <tr>\n",
       "      <th>total_assist_turnover_ratio</th>\n",
       "      <td>0.184679</td>\n",
       "      <td>0.311397</td>\n",
       "      <td>0.362014</td>\n",
       "      <td>0.381143</td>\n",
       "      <td>0.618631</td>\n",
       "    </tr>\n",
       "    <tr>\n",
       "      <th>expectation_per_game</th>\n",
       "      <td>0.223744</td>\n",
       "      <td>0.289324</td>\n",
       "      <td>0.346074</td>\n",
       "      <td>0.381699</td>\n",
       "      <td>0.614475</td>\n",
       "    </tr>\n",
       "    <tr>\n",
       "      <th>avg_lose_score_by</th>\n",
       "      <td>0.442812</td>\n",
       "      <td>0.419435</td>\n",
       "      <td>0.480444</td>\n",
       "      <td>0.540254</td>\n",
       "      <td>0.706714</td>\n",
       "    </tr>\n",
       "    <tr>\n",
       "      <th>avg_win_score_by</th>\n",
       "      <td>0.023869</td>\n",
       "      <td>0.344779</td>\n",
       "      <td>0.281128</td>\n",
       "      <td>0.213940</td>\n",
       "      <td>0.600712</td>\n",
       "    </tr>\n",
       "    <tr>\n",
       "      <th>num_season</th>\n",
       "      <td>0.026087</td>\n",
       "      <td>0.056522</td>\n",
       "      <td>0.086957</td>\n",
       "      <td>0.117391</td>\n",
       "      <td>0.086957</td>\n",
       "    </tr>\n",
       "    <tr>\n",
       "      <th>is_playoff</th>\n",
       "      <td>0.000000</td>\n",
       "      <td>0.000000</td>\n",
       "      <td>0.000000</td>\n",
       "      <td>0.000000</td>\n",
       "      <td>0.000000</td>\n",
       "    </tr>\n",
       "    <tr>\n",
       "      <th>is_champion</th>\n",
       "      <td>0.000000</td>\n",
       "      <td>0.000000</td>\n",
       "      <td>0.000000</td>\n",
       "      <td>0.000000</td>\n",
       "      <td>0.000000</td>\n",
       "    </tr>\n",
       "    <tr>\n",
       "      <th>Season</th>\n",
       "      <td>2014.000000</td>\n",
       "      <td>2015.000000</td>\n",
       "      <td>2016.000000</td>\n",
       "      <td>2017.000000</td>\n",
       "      <td>2003.000000</td>\n",
       "    </tr>\n",
       "    <tr>\n",
       "      <th>TeamID</th>\n",
       "      <td>1101.000000</td>\n",
       "      <td>1101.000000</td>\n",
       "      <td>1101.000000</td>\n",
       "      <td>1101.000000</td>\n",
       "      <td>1102.000000</td>\n",
       "    </tr>\n",
       "    <tr>\n",
       "      <th>win_rate</th>\n",
       "      <td>0.095238</td>\n",
       "      <td>0.183673</td>\n",
       "      <td>0.236842</td>\n",
       "      <td>0.267327</td>\n",
       "      <td>0.428571</td>\n",
       "    </tr>\n",
       "    <tr>\n",
       "      <th>fgp</th>\n",
       "      <td>0.405508</td>\n",
       "      <td>0.405128</td>\n",
       "      <td>0.418441</td>\n",
       "      <td>0.428437</td>\n",
       "      <td>0.481149</td>\n",
       "    </tr>\n",
       "    <tr>\n",
       "      <th>fg3p</th>\n",
       "      <td>0.373333</td>\n",
       "      <td>0.376096</td>\n",
       "      <td>0.371569</td>\n",
       "      <td>0.371444</td>\n",
       "      <td>0.375643</td>\n",
       "    </tr>\n",
       "    <tr>\n",
       "      <th>total_off_rebounds_percent</th>\n",
       "      <td>0.282353</td>\n",
       "      <td>0.289971</td>\n",
       "      <td>0.281179</td>\n",
       "      <td>0.272758</td>\n",
       "      <td>0.198980</td>\n",
       "    </tr>\n",
       "    <tr>\n",
       "      <th>total_def_rebounds_percent</th>\n",
       "      <td>0.717647</td>\n",
       "      <td>0.710029</td>\n",
       "      <td>0.718821</td>\n",
       "      <td>0.727242</td>\n",
       "      <td>0.801020</td>\n",
       "    </tr>\n",
       "    <tr>\n",
       "      <th>total_rebound_possession_percent</th>\n",
       "      <td>0.268371</td>\n",
       "      <td>0.264589</td>\n",
       "      <td>0.267126</td>\n",
       "      <td>0.265856</td>\n",
       "      <td>0.202422</td>\n",
       "    </tr>\n",
       "    <tr>\n",
       "      <th>total_rebound_possessiongain_percent</th>\n",
       "      <td>0.773551</td>\n",
       "      <td>0.766275</td>\n",
       "      <td>0.788950</td>\n",
       "      <td>0.790110</td>\n",
       "      <td>0.726852</td>\n",
       "    </tr>\n",
       "    <tr>\n",
       "      <th>total_block_opp_FGA_percent</th>\n",
       "      <td>0.027629</td>\n",
       "      <td>0.025137</td>\n",
       "      <td>0.032541</td>\n",
       "      <td>0.037287</td>\n",
       "      <td>0.042088</td>\n",
       "    </tr>\n",
       "    <tr>\n",
       "      <th>win_rate_away</th>\n",
       "      <td>0.000000</td>\n",
       "      <td>0.083333</td>\n",
       "      <td>0.157895</td>\n",
       "      <td>0.250000</td>\n",
       "      <td>0.428571</td>\n",
       "    </tr>\n",
       "    <tr>\n",
       "      <th>win_rate_home</th>\n",
       "      <td>0.125000</td>\n",
       "      <td>0.176471</td>\n",
       "      <td>0.230769</td>\n",
       "      <td>0.250000</td>\n",
       "      <td>0.473684</td>\n",
       "    </tr>\n",
       "    <tr>\n",
       "      <th>win_rate_neutral</th>\n",
       "      <td>0.000000</td>\n",
       "      <td>0.666667</td>\n",
       "      <td>0.600000</td>\n",
       "      <td>0.000000</td>\n",
       "      <td>0.000000</td>\n",
       "    </tr>\n",
       "    <tr>\n",
       "      <th>win_rate_post</th>\n",
       "      <td>0.000000</td>\n",
       "      <td>0.000000</td>\n",
       "      <td>0.000000</td>\n",
       "      <td>0.000000</td>\n",
       "      <td>0.000000</td>\n",
       "    </tr>\n",
       "    <tr>\n",
       "      <th>win_rate_regular</th>\n",
       "      <td>0.095238</td>\n",
       "      <td>0.183673</td>\n",
       "      <td>0.236842</td>\n",
       "      <td>0.267327</td>\n",
       "      <td>0.428571</td>\n",
       "    </tr>\n",
       "    <tr>\n",
       "      <th>win_rate_overall</th>\n",
       "      <td>0.095238</td>\n",
       "      <td>0.183673</td>\n",
       "      <td>0.236842</td>\n",
       "      <td>0.267327</td>\n",
       "      <td>0.428571</td>\n",
       "    </tr>\n",
       "  </tbody>\n",
       "</table>\n",
       "</div>"
      ],
      "text/plain": [
       "                                                0            1            2  \\\n",
       "total_score                              0.016179     0.060323     0.109066   \n",
       "total_opponent_score                     0.022804     0.082161     0.142904   \n",
       "total_rebounds                           0.014417     0.054206     0.096439   \n",
       "total_off_rebounds                       0.010464     0.044034     0.076152   \n",
       "total_def_rebounds                       0.016552     0.059696     0.107389   \n",
       "total_blocks                             0.003550     0.013314     0.032840   \n",
       "total_assists                            0.011125     0.051270     0.093349   \n",
       "total_steals                             0.014599     0.054988     0.099270   \n",
       "total_turnover                           0.020070     0.070105     0.120557   \n",
       "total_personalfoul                       0.027708     0.088496     0.152128   \n",
       "total_assist_per_fgm                     0.273657     0.386835     0.403154   \n",
       "total_assist_turnover_ratio              0.184679     0.311397     0.362014   \n",
       "expectation_per_game                     0.223744     0.289324     0.346074   \n",
       "avg_lose_score_by                        0.442812     0.419435     0.480444   \n",
       "avg_win_score_by                         0.023869     0.344779     0.281128   \n",
       "num_season                               0.026087     0.056522     0.086957   \n",
       "is_playoff                               0.000000     0.000000     0.000000   \n",
       "is_champion                              0.000000     0.000000     0.000000   \n",
       "Season                                2014.000000  2015.000000  2016.000000   \n",
       "TeamID                                1101.000000  1101.000000  1101.000000   \n",
       "win_rate                                 0.095238     0.183673     0.236842   \n",
       "fgp                                      0.405508     0.405128     0.418441   \n",
       "fg3p                                     0.373333     0.376096     0.371569   \n",
       "total_off_rebounds_percent               0.282353     0.289971     0.281179   \n",
       "total_def_rebounds_percent               0.717647     0.710029     0.718821   \n",
       "total_rebound_possession_percent         0.268371     0.264589     0.267126   \n",
       "total_rebound_possessiongain_percent     0.773551     0.766275     0.788950   \n",
       "total_block_opp_FGA_percent              0.027629     0.025137     0.032541   \n",
       "win_rate_away                            0.000000     0.083333     0.157895   \n",
       "win_rate_home                            0.125000     0.176471     0.230769   \n",
       "win_rate_neutral                         0.000000     0.666667     0.600000   \n",
       "win_rate_post                            0.000000     0.000000     0.000000   \n",
       "win_rate_regular                         0.095238     0.183673     0.236842   \n",
       "win_rate_overall                         0.095238     0.183673     0.236842   \n",
       "\n",
       "                                                3            4  \n",
       "total_score                              0.152926     0.023338  \n",
       "total_opponent_score                     0.196478     0.021182  \n",
       "total_rebounds                           0.135208     0.014061  \n",
       "total_off_rebounds                       0.103619     0.003052  \n",
       "total_def_rebounds                       0.152259     0.020003  \n",
       "total_blocks                             0.053254     0.009172  \n",
       "total_assists                            0.134462     0.029746  \n",
       "total_steals                             0.141849     0.025791  \n",
       "total_turnover                           0.171010     0.020767  \n",
       "total_personalfoul                       0.210493     0.035293  \n",
       "total_assist_per_fgm                     0.422999     0.863359  \n",
       "total_assist_turnover_ratio              0.381143     0.618631  \n",
       "expectation_per_game                     0.381699     0.614475  \n",
       "avg_lose_score_by                        0.540254     0.706714  \n",
       "avg_win_score_by                         0.213940     0.600712  \n",
       "num_season                               0.117391     0.086957  \n",
       "is_playoff                               0.000000     0.000000  \n",
       "is_champion                              0.000000     0.000000  \n",
       "Season                                2017.000000  2003.000000  \n",
       "TeamID                                1101.000000  1102.000000  \n",
       "win_rate                                 0.267327     0.428571  \n",
       "fgp                                      0.428437     0.481149  \n",
       "fg3p                                     0.371444     0.375643  \n",
       "total_off_rebounds_percent               0.272758     0.198980  \n",
       "total_def_rebounds_percent               0.727242     0.801020  \n",
       "total_rebound_possession_percent         0.265856     0.202422  \n",
       "total_rebound_possessiongain_percent     0.790110     0.726852  \n",
       "total_block_opp_FGA_percent              0.037287     0.042088  \n",
       "win_rate_away                            0.250000     0.428571  \n",
       "win_rate_home                            0.250000     0.473684  \n",
       "win_rate_neutral                         0.000000     0.000000  \n",
       "win_rate_post                            0.000000     0.000000  \n",
       "win_rate_regular                         0.267327     0.428571  \n",
       "win_rate_overall                         0.267327     0.428571  "
      ]
     },
     "execution_count": 23,
     "metadata": {},
     "output_type": "execute_result"
    }
   ],
   "source": [
    "print(\"number of features in table: \" + str(len(raw_data.dtypes)-2))\n",
    "raw_data.head().transpose()"
   ]
  },
  {
   "cell_type": "markdown",
   "metadata": {},
   "source": [
    "#### Remove away columns that are not required in training of model"
   ]
  },
  {
   "cell_type": "code",
   "execution_count": 24,
   "metadata": {
    "collapsed": true
   },
   "outputs": [],
   "source": [
    "rawdata = (\n",
    "    raw_data\n",
    "    .drop(['Season','TeamID'],1)\n",
    ")"
   ]
  },
  {
   "cell_type": "markdown",
   "metadata": {},
   "source": [
    "### Before applying PCA to the dataset, we will have to remove correlated features\n",
    "- why?\n",
    "    - In presence of correlated variables, the variance explained by a particular component gets inflated.\n",
    "    - We have more unnecessary eigen values, which increases the variance incorrectly"
   ]
  },
  {
   "cell_type": "code",
   "execution_count": 25,
   "metadata": {
    "collapsed": true
   },
   "outputs": [],
   "source": [
    "corr = rawdata.corr()"
   ]
  },
  {
   "cell_type": "markdown",
   "metadata": {},
   "source": [
    "### Remove features that have correlation than 0.7"
   ]
  },
  {
   "cell_type": "code",
   "execution_count": 26,
   "metadata": {
    "collapsed": true
   },
   "outputs": [],
   "source": [
    "features_table = (\n",
    "    rawdata\n",
    "    .drop(['total_score','total_opponent_score','total_rebounds','total_blocks','total_assist_turnover_ratio','expectation_per_game',\n",
    "           'win_rate','fg3p','win_rate_overall','total_off_rebounds_percent','total_def_rebounds_percent','total_rebound_possession_percent','total_rebound_possessiongain_percent'\n",
    "          ],1)\n",
    "    .fillna(0)\n",
    ")"
   ]
  },
  {
   "cell_type": "code",
   "execution_count": 9,
   "metadata": {},
   "outputs": [
    {
     "name": "stdout",
     "output_type": "stream",
     "text": [
      "Number of features left: 19\n"
     ]
    }
   ],
   "source": [
    "print(\"Number of features left: \" + str(len(features_table.dtypes)))"
   ]
  },
  {
   "cell_type": "markdown",
   "metadata": {},
   "source": [
    "### Apply PCA to `features_table`"
   ]
  },
  {
   "cell_type": "code",
   "execution_count": 10,
   "metadata": {
    "collapsed": true
   },
   "outputs": [],
   "source": [
    "%matplotlib inline\n",
    "import numpy as np\n",
    "import matplotlib.pyplot as plt\n",
    "import seaborn as sns; sns.set()\n",
    "\n",
    "from sklearn.decomposition import PCA"
   ]
  },
  {
   "cell_type": "code",
   "execution_count": 11,
   "metadata": {},
   "outputs": [
    {
     "data": {
      "text/plain": [
       "PCA(copy=True, iterated_power='auto', n_components=None, random_state=None,\n",
       "  svd_solver='auto', tol=0.0, whiten=False)"
      ]
     },
     "execution_count": 11,
     "metadata": {},
     "output_type": "execute_result"
    }
   ],
   "source": [
    "pca = PCA()#PCA(n_components = 19) # number of features\n",
    "pca.fit(features_table) # fit the features table into PCA"
   ]
  },
  {
   "cell_type": "code",
   "execution_count": 12,
   "metadata": {},
   "outputs": [
    {
     "data": {
      "text/plain": [
       "Text(0,0.5,'cumulative explained variance')"
      ]
     },
     "execution_count": 12,
     "metadata": {},
     "output_type": "execute_result"
    },
    {
     "data": {
      "image/png": "[encoded data removed]",
      "text/plain": [
       "<Figure size 432x288 with 1 Axes>"
      ]
     },
     "metadata": {},
     "output_type": "display_data"
    }
   ],
   "source": [
    "plt.plot(np.cumsum(pca.explained_variance_ratio_))\n",
    "plt.xlabel('number of components')\n",
    "plt.ylabel('cumulative explained variance')"
   ]
  },
  {
   "cell_type": "code",
   "execution_count": 13,
   "metadata": {},
   "outputs": [
    {
     "data": {
      "text/plain": [
       "array([ 53.87 ,  75.75 ,  83.114,  87.838,  91.951,  94.629,  96.187,\n",
       "        97.186,  97.912,  98.579,  98.959,  99.237,  99.497,  99.675,\n",
       "        99.829,  99.913,  99.963,  99.984, 100.   ])"
      ]
     },
     "execution_count": 13,
     "metadata": {},
     "output_type": "execute_result"
    }
   ],
   "source": [
    "np.cumsum(np.round(pca.explained_variance_ratio_, decimals=5)*100)"
   ]
  },
  {
   "cell_type": "markdown",
   "metadata": {},
   "source": [
    "### Assuming we would like to cut off at 95% variance\n",
    "- 7 variables retained"
   ]
  },
  {
   "cell_type": "code",
   "execution_count": 14,
   "metadata": {},
   "outputs": [
    {
     "data": {
      "text/plain": [
       "PCA(copy=True, iterated_power='auto', n_components=7, random_state=None,\n",
       "  svd_solver='auto', tol=0.0, whiten=False)"
      ]
     },
     "execution_count": 14,
     "metadata": {},
     "output_type": "execute_result"
    }
   ],
   "source": [
    "pca = PCA(n_components=7)\n",
    "pca.fit(features_table)"
   ]
  },
  {
   "cell_type": "markdown",
   "metadata": {},
   "source": [
    "### Get back original data from the 7 features selected"
   ]
  },
  {
   "cell_type": "code",
   "execution_count": 19,
   "metadata": {
    "collapsed": true
   },
   "outputs": [],
   "source": [
    "post_pca_array = pca.fit_transform(features_table)\n",
    "X_new = pca.inverse_transform(post_pca_array)"
   ]
  },
  {
   "cell_type": "code",
   "execution_count": 20,
   "metadata": {},
   "outputs": [
    {
     "data": {
      "text/plain": [
       "(5172, 19)"
      ]
     },
     "execution_count": 20,
     "metadata": {},
     "output_type": "execute_result"
    }
   ],
   "source": [
    "X_new.shape"
   ]
  },
  {
   "cell_type": "markdown",
   "metadata": {},
   "source": [
    "#### `post_pca_array` will be the dimension reduction matrix that will be used in classification or regression moving forward\n",
    "- notice how PCA doesnt drop any of the columns but instead of 19 columns its being compressed to 7 column (or components)"
   ]
  }
 ],
 "metadata": {
  "kernelspec": {
   "display_name": "Python 3",
   "language": "python",
   "name": "python3"
  },
  "language_info": {
   "codemirror_mode": {
    "name": "ipython",
    "version": 3
   },
   "file_extension": ".py",
   "mimetype": "text/x-python",
   "name": "python",
   "nbconvert_exporter": "python",
   "pygments_lexer": "ipython3",
   "version": "3.6.3"
  }
 },
 "nbformat": 4,
 "nbformat_minor": 2
}
